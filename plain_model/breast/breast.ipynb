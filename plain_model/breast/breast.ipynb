{
 "cells": [
  {
   "cell_type": "code",
   "execution_count": 1,
   "metadata": {},
   "outputs": [],
   "source": [
    "import torch\n",
    "import torch.nn as nn\n",
    "import matplotlib.pyplot as plt\n",
    "import pandas as pd\n",
    "import numpy as np"
   ]
  },
  {
   "cell_type": "code",
   "execution_count": 3,
   "metadata": {},
   "outputs": [],
   "source": [
    "column_names = ['class', 'age', 'menopause', 'tumor-size', 'inv-nodes', 'node-caps', 'deg-malig', 'breast', 'breast-quad', 'irradiat']\n",
    "df1 = pd.read_csv('/gpfs/commons/groups/gursoy_lab/shong/Github/composable-fe-rs/plain_model/breast/breast-cancer.data', header=None, names=column_names)"
   ]
  },
  {
   "cell_type": "code",
   "execution_count": 4,
   "metadata": {},
   "outputs": [
    {
     "data": {
      "text/html": [
       "<div>\n",
       "<style scoped>\n",
       "    .dataframe tbody tr th:only-of-type {\n",
       "        vertical-align: middle;\n",
       "    }\n",
       "\n",
       "    .dataframe tbody tr th {\n",
       "        vertical-align: top;\n",
       "    }\n",
       "\n",
       "    .dataframe thead th {\n",
       "        text-align: right;\n",
       "    }\n",
       "</style>\n",
       "<table border=\"1\" class=\"dataframe\">\n",
       "  <thead>\n",
       "    <tr style=\"text-align: right;\">\n",
       "      <th></th>\n",
       "      <th>class</th>\n",
       "      <th>age</th>\n",
       "      <th>menopause</th>\n",
       "      <th>tumor-size</th>\n",
       "      <th>inv-nodes</th>\n",
       "      <th>node-caps</th>\n",
       "      <th>deg-malig</th>\n",
       "      <th>breast</th>\n",
       "      <th>breast-quad</th>\n",
       "      <th>irradiat</th>\n",
       "    </tr>\n",
       "  </thead>\n",
       "  <tbody>\n",
       "    <tr>\n",
       "      <th>0</th>\n",
       "      <td>no-recurrence-events</td>\n",
       "      <td>30-39</td>\n",
       "      <td>premeno</td>\n",
       "      <td>30-34</td>\n",
       "      <td>0-2</td>\n",
       "      <td>no</td>\n",
       "      <td>3</td>\n",
       "      <td>left</td>\n",
       "      <td>left_low</td>\n",
       "      <td>no</td>\n",
       "    </tr>\n",
       "    <tr>\n",
       "      <th>1</th>\n",
       "      <td>no-recurrence-events</td>\n",
       "      <td>40-49</td>\n",
       "      <td>premeno</td>\n",
       "      <td>20-24</td>\n",
       "      <td>0-2</td>\n",
       "      <td>no</td>\n",
       "      <td>2</td>\n",
       "      <td>right</td>\n",
       "      <td>right_up</td>\n",
       "      <td>no</td>\n",
       "    </tr>\n",
       "    <tr>\n",
       "      <th>2</th>\n",
       "      <td>no-recurrence-events</td>\n",
       "      <td>40-49</td>\n",
       "      <td>premeno</td>\n",
       "      <td>20-24</td>\n",
       "      <td>0-2</td>\n",
       "      <td>no</td>\n",
       "      <td>2</td>\n",
       "      <td>left</td>\n",
       "      <td>left_low</td>\n",
       "      <td>no</td>\n",
       "    </tr>\n",
       "    <tr>\n",
       "      <th>3</th>\n",
       "      <td>no-recurrence-events</td>\n",
       "      <td>60-69</td>\n",
       "      <td>ge40</td>\n",
       "      <td>15-19</td>\n",
       "      <td>0-2</td>\n",
       "      <td>no</td>\n",
       "      <td>2</td>\n",
       "      <td>right</td>\n",
       "      <td>left_up</td>\n",
       "      <td>no</td>\n",
       "    </tr>\n",
       "    <tr>\n",
       "      <th>4</th>\n",
       "      <td>no-recurrence-events</td>\n",
       "      <td>40-49</td>\n",
       "      <td>premeno</td>\n",
       "      <td>0-4</td>\n",
       "      <td>0-2</td>\n",
       "      <td>no</td>\n",
       "      <td>2</td>\n",
       "      <td>right</td>\n",
       "      <td>right_low</td>\n",
       "      <td>no</td>\n",
       "    </tr>\n",
       "  </tbody>\n",
       "</table>\n",
       "</div>"
      ],
      "text/plain": [
       "                  class    age menopause tumor-size inv-nodes node-caps  \\\n",
       "0  no-recurrence-events  30-39   premeno      30-34       0-2        no   \n",
       "1  no-recurrence-events  40-49   premeno      20-24       0-2        no   \n",
       "2  no-recurrence-events  40-49   premeno      20-24       0-2        no   \n",
       "3  no-recurrence-events  60-69      ge40      15-19       0-2        no   \n",
       "4  no-recurrence-events  40-49   premeno        0-4       0-2        no   \n",
       "\n",
       "   deg-malig breast breast-quad irradiat  \n",
       "0          3   left    left_low       no  \n",
       "1          2  right    right_up       no  \n",
       "2          2   left    left_low       no  \n",
       "3          2  right     left_up       no  \n",
       "4          2  right   right_low       no  "
      ]
     },
     "execution_count": 4,
     "metadata": {},
     "output_type": "execute_result"
    }
   ],
   "source": [
    "df1.head()"
   ]
  },
  {
   "cell_type": "code",
   "execution_count": 5,
   "metadata": {},
   "outputs": [],
   "source": [
    "def get_info_dataframe(dataframe):\n",
    "    print(f\"DATAFRAME GENERAL INFO - \\n\")\n",
    "    print(dataframe.info(),\"\\n\")\n",
    "    print(f\"DATAFRAME MISSING INFO - \\n\")\n",
    "    print(dataframe.isnull().sum(),\"\\n\")\n",
    "    print(f\"DATAFRAME SHAPE INFO - \\n\")\n",
    "    print(dataframe.shape)"
   ]
  },
  {
   "cell_type": "code",
   "execution_count": 6,
   "metadata": {},
   "outputs": [
    {
     "name": "stdout",
     "output_type": "stream",
     "text": [
      "DATAFRAME GENERAL INFO - \n",
      "\n",
      "<class 'pandas.core.frame.DataFrame'>\n",
      "RangeIndex: 286 entries, 0 to 285\n",
      "Data columns (total 10 columns):\n",
      " #   Column       Non-Null Count  Dtype \n",
      "---  ------       --------------  ----- \n",
      " 0   class        286 non-null    object\n",
      " 1   age          286 non-null    object\n",
      " 2   menopause    286 non-null    object\n",
      " 3   tumor-size   286 non-null    object\n",
      " 4   inv-nodes    286 non-null    object\n",
      " 5   node-caps    286 non-null    object\n",
      " 6   deg-malig    286 non-null    int64 \n",
      " 7   breast       286 non-null    object\n",
      " 8   breast-quad  286 non-null    object\n",
      " 9   irradiat     286 non-null    object\n",
      "dtypes: int64(1), object(9)\n",
      "memory usage: 22.5+ KB\n",
      "None \n",
      "\n",
      "DATAFRAME MISSING INFO - \n",
      "\n",
      "class          0\n",
      "age            0\n",
      "menopause      0\n",
      "tumor-size     0\n",
      "inv-nodes      0\n",
      "node-caps      0\n",
      "deg-malig      0\n",
      "breast         0\n",
      "breast-quad    0\n",
      "irradiat       0\n",
      "dtype: int64 \n",
      "\n",
      "DATAFRAME SHAPE INFO - \n",
      "\n",
      "(286, 10)\n"
     ]
    }
   ],
   "source": [
    "get_info_dataframe(df1)"
   ]
  },
  {
   "cell_type": "code",
   "execution_count": 7,
   "metadata": {},
   "outputs": [
    {
     "data": {
      "text/html": [
       "<div>\n",
       "<style scoped>\n",
       "    .dataframe tbody tr th:only-of-type {\n",
       "        vertical-align: middle;\n",
       "    }\n",
       "\n",
       "    .dataframe tbody tr th {\n",
       "        vertical-align: top;\n",
       "    }\n",
       "\n",
       "    .dataframe thead th {\n",
       "        text-align: right;\n",
       "    }\n",
       "</style>\n",
       "<table border=\"1\" class=\"dataframe\">\n",
       "  <thead>\n",
       "    <tr style=\"text-align: right;\">\n",
       "      <th></th>\n",
       "      <th>class</th>\n",
       "      <th>age</th>\n",
       "      <th>menopause</th>\n",
       "      <th>tumor-size</th>\n",
       "      <th>inv-nodes</th>\n",
       "      <th>node-caps</th>\n",
       "      <th>deg-malig</th>\n",
       "      <th>breast</th>\n",
       "      <th>breast-quad</th>\n",
       "      <th>irradiat</th>\n",
       "    </tr>\n",
       "  </thead>\n",
       "  <tbody>\n",
       "    <tr>\n",
       "      <th>0</th>\n",
       "      <td>0</td>\n",
       "      <td>1</td>\n",
       "      <td>2</td>\n",
       "      <td>5</td>\n",
       "      <td>0</td>\n",
       "      <td>1</td>\n",
       "      <td>3</td>\n",
       "      <td>0</td>\n",
       "      <td>2</td>\n",
       "      <td>0</td>\n",
       "    </tr>\n",
       "    <tr>\n",
       "      <th>1</th>\n",
       "      <td>0</td>\n",
       "      <td>2</td>\n",
       "      <td>2</td>\n",
       "      <td>3</td>\n",
       "      <td>0</td>\n",
       "      <td>1</td>\n",
       "      <td>2</td>\n",
       "      <td>1</td>\n",
       "      <td>5</td>\n",
       "      <td>0</td>\n",
       "    </tr>\n",
       "    <tr>\n",
       "      <th>2</th>\n",
       "      <td>0</td>\n",
       "      <td>2</td>\n",
       "      <td>2</td>\n",
       "      <td>3</td>\n",
       "      <td>0</td>\n",
       "      <td>1</td>\n",
       "      <td>2</td>\n",
       "      <td>0</td>\n",
       "      <td>2</td>\n",
       "      <td>0</td>\n",
       "    </tr>\n",
       "    <tr>\n",
       "      <th>3</th>\n",
       "      <td>0</td>\n",
       "      <td>4</td>\n",
       "      <td>0</td>\n",
       "      <td>2</td>\n",
       "      <td>0</td>\n",
       "      <td>1</td>\n",
       "      <td>2</td>\n",
       "      <td>1</td>\n",
       "      <td>3</td>\n",
       "      <td>0</td>\n",
       "    </tr>\n",
       "    <tr>\n",
       "      <th>4</th>\n",
       "      <td>0</td>\n",
       "      <td>2</td>\n",
       "      <td>2</td>\n",
       "      <td>0</td>\n",
       "      <td>0</td>\n",
       "      <td>1</td>\n",
       "      <td>2</td>\n",
       "      <td>1</td>\n",
       "      <td>4</td>\n",
       "      <td>0</td>\n",
       "    </tr>\n",
       "  </tbody>\n",
       "</table>\n",
       "</div>"
      ],
      "text/plain": [
       "   class  age  menopause  tumor-size  inv-nodes  node-caps  deg-malig  breast  \\\n",
       "0      0    1          2           5          0          1          3       0   \n",
       "1      0    2          2           3          0          1          2       1   \n",
       "2      0    2          2           3          0          1          2       0   \n",
       "3      0    4          0           2          0          1          2       1   \n",
       "4      0    2          2           0          0          1          2       1   \n",
       "\n",
       "   breast-quad  irradiat  \n",
       "0            2         0  \n",
       "1            5         0  \n",
       "2            2         0  \n",
       "3            3         0  \n",
       "4            4         0  "
      ]
     },
     "execution_count": 7,
     "metadata": {},
     "output_type": "execute_result"
    }
   ],
   "source": [
    "categorical_columns = ['class', 'age', 'menopause', 'tumor-size', 'inv-nodes', 'node-caps', 'breast', 'breast-quad', 'irradiat']\n",
    "df = df1.copy()\n",
    "for name in categorical_columns:\n",
    "    df[name] = df[name].astype('category')\n",
    "    df[name] = df[name].cat.codes\n",
    "\n",
    "df.head()"
   ]
  },
  {
   "cell_type": "code",
   "execution_count": 8,
   "metadata": {},
   "outputs": [
    {
     "name": "stdout",
     "output_type": "stream",
     "text": [
      "(200, 9)\n",
      "(200,)\n",
      "(86, 9)\n",
      "(86,)\n"
     ]
    }
   ],
   "source": [
    "from sklearn.preprocessing import StandardScaler\n",
    "from sklearn.model_selection import train_test_split\n",
    "\n",
    "#split data\n",
    "X = df.drop(['irradiat'], axis = 1).values\n",
    "y = df['irradiat'].values\n",
    "X_train, X_test, y_train, y_test = train_test_split(X, y, test_size = 0.3, random_state = 2)\n",
    "print(X_train.shape)\n",
    "print(y_train.shape)\n",
    "print(X_test.shape)\n",
    "print(y_test.shape)"
   ]
  },
  {
   "cell_type": "code",
   "execution_count": 9,
   "metadata": {},
   "outputs": [],
   "source": [
    "from sklearn.preprocessing import StandardScaler\n",
    "from sklearn.model_selection import train_test_split"
   ]
  },
  {
   "cell_type": "code",
   "execution_count": 10,
   "metadata": {},
   "outputs": [],
   "source": [
    "scaler = StandardScaler()"
   ]
  },
  {
   "cell_type": "code",
   "execution_count": 11,
   "metadata": {},
   "outputs": [],
   "source": [
    "X_train = torch.FloatTensor(X_train)\n",
    "X_test = torch.FloatTensor(X_test)\n",
    "y_train = torch.LongTensor(y_train)\n",
    "y_test = torch.LongTensor(y_test)"
   ]
  },
  {
   "cell_type": "code",
   "execution_count": 12,
   "metadata": {},
   "outputs": [],
   "source": [
    "hiden_dim = 4\n",
    "\n",
    "class NeuralNetworkClassificationModel(nn.Module):\n",
    "    def __init__(self,input_dim,output_dim):\n",
    "        super(NeuralNetworkClassificationModel,self).__init__()\n",
    "        self.input_layer    = nn.Linear(input_dim,hiden_dim)\n",
    "        # self.hidden_layer1  = nn.Linear(10, 3)\n",
    "        self.output_layer   = nn.Linear(hiden_dim,output_dim)\n",
    "        # self.relu = nn.ReLU()\n",
    "        # self.square = torch.square()\n",
    "    \n",
    "    \n",
    "    def forward(self,x):\n",
    "        out =  torch.square(self.input_layer(x))\n",
    "        out =  torch.square(self.output_layer(out))\n",
    "        # out =  torch.square(self.input_layer(x))\n",
    "        # out =  self.output_layer(out)\n",
    "        # out =  self.relu(self.hidden_layer1(out))\n",
    "        return out"
   ]
  },
  {
   "cell_type": "code",
   "execution_count": 13,
   "metadata": {},
   "outputs": [],
   "source": [
    "input_dim  = 9\n",
    "output_dim = 2\n",
    "model = NeuralNetworkClassificationModel(input_dim,output_dim)\n",
    "\n",
    "# creating our optimizer and loss function object\n",
    "learning_rate = 0.001\n",
    "criterion = nn.CrossEntropyLoss()\n",
    "optimizer = torch.optim.Adam(model.parameters(),lr=learning_rate)"
   ]
  },
  {
   "cell_type": "code",
   "execution_count": 14,
   "metadata": {},
   "outputs": [],
   "source": [
    "def train_network(model,optimizer,criterion,X_train,y_train,X_test,y_test,num_epochs,train_losses,test_losses):\n",
    "    for epoch in range(num_epochs):\n",
    "        #clear out the gradients from the last step loss.backward()\n",
    "        optimizer.zero_grad()\n",
    "        \n",
    "        #forward feed\n",
    "        output_train = model(X_train)\n",
    "\n",
    "        #calculate the loss\n",
    "        loss_train = criterion(output_train, y_train)\n",
    "        \n",
    "\n",
    "\n",
    "        #backward propagation: calculate gradients\n",
    "        loss_train.backward()\n",
    "\n",
    "        #update the weights\n",
    "        optimizer.step()\n",
    "\n",
    "        \n",
    "        output_test = model(X_test)\n",
    "        loss_test = criterion(output_test,y_test)\n",
    "\n",
    "        train_losses[epoch] = loss_train.item()\n",
    "        test_losses[epoch] = loss_test.item()\n",
    "\n",
    "        if (epoch + 1) % 50 == 0:\n",
    "            print(f\"Epoch {epoch+1}/{num_epochs}, Train Loss: {loss_train.item():.4f}, Test Loss: {loss_test.item():.4f}\")"
   ]
  },
  {
   "cell_type": "code",
   "execution_count": 15,
   "metadata": {},
   "outputs": [],
   "source": [
    "num_epochs = 500\n",
    "train_losses = np.zeros(num_epochs)\n",
    "test_losses  = np.zeros(num_epochs)"
   ]
  },
  {
   "cell_type": "code",
   "execution_count": 16,
   "metadata": {},
   "outputs": [
    {
     "name": "stdout",
     "output_type": "stream",
     "text": [
      "Epoch 50/500, Train Loss: 1.9928, Test Loss: 2.8265\n",
      "Epoch 100/500, Train Loss: 0.9820, Test Loss: 1.4255\n",
      "Epoch 150/500, Train Loss: 0.7950, Test Loss: 1.0969\n",
      "Epoch 200/500, Train Loss: 0.6941, Test Loss: 0.9368\n",
      "Epoch 250/500, Train Loss: 0.6294, Test Loss: 0.8337\n",
      "Epoch 300/500, Train Loss: 0.5843, Test Loss: 0.7625\n",
      "Epoch 350/500, Train Loss: 0.5502, Test Loss: 0.7095\n",
      "Epoch 400/500, Train Loss: 0.5246, Test Loss: 0.6693\n",
      "Epoch 450/500, Train Loss: 0.5070, Test Loss: 0.6404\n",
      "Epoch 500/500, Train Loss: 0.4947, Test Loss: 0.6204\n"
     ]
    }
   ],
   "source": [
    "train_network(model,optimizer,criterion,X_train,y_train,X_test,y_test,num_epochs,train_losses,test_losses)"
   ]
  },
  {
   "cell_type": "code",
   "execution_count": 17,
   "metadata": {},
   "outputs": [
    {
     "data": {
      "image/png": "[encoded data removed]",
      "text/plain": [
       "<Figure size 720x720 with 1 Axes>"
      ]
     },
     "metadata": {
      "needs_background": "light"
     },
     "output_type": "display_data"
    }
   ],
   "source": [
    "plt.figure(figsize=(10,10))\n",
    "plt.plot(train_losses, label='train loss')\n",
    "plt.plot(test_losses, label='test loss')\n",
    "plt.legend()\n",
    "plt.show()"
   ]
  },
  {
   "cell_type": "code",
   "execution_count": 18,
   "metadata": {},
   "outputs": [],
   "source": [
    "predictions_train = []\n",
    "predictions_test =  []\n",
    "with torch.no_grad():\n",
    "    predictions_train = model(X_train)\n",
    "    predictions_test = model(X_test)"
   ]
  },
  {
   "cell_type": "code",
   "execution_count": 19,
   "metadata": {},
   "outputs": [],
   "source": [
    "def get_accuracy_multiclass(pred_arr,original_arr):\n",
    "    if len(pred_arr)!=len(original_arr):\n",
    "        return False\n",
    "    pred_arr = pred_arr.numpy()\n",
    "    original_arr = original_arr.numpy()\n",
    "    final_pred= []\n",
    "    # we will get something like this in the pred_arr [32.1680,12.9350,-58.4877]\n",
    "    # so will be taking the index of that argument which has the highest value here 32.1680 which corresponds to 0th index\n",
    "    for i in range(len(pred_arr)):\n",
    "        final_pred.append(np.argmax(pred_arr[i]))\n",
    "    final_pred = np.array(final_pred)\n",
    "    count = 0\n",
    "    #here we are doing a simple comparison between the predicted_arr and the original_arr to get the final accuracy\n",
    "    for i in range(len(original_arr)):\n",
    "        if final_pred[i] == original_arr[i]:\n",
    "            count+=1\n",
    "    return count/len(final_pred)"
   ]
  },
  {
   "cell_type": "code",
   "execution_count": 20,
   "metadata": {},
   "outputs": [],
   "source": [
    "train_acc = get_accuracy_multiclass(predictions_train,y_train)\n",
    "test_acc  = get_accuracy_multiclass(predictions_test,y_test)"
   ]
  },
  {
   "cell_type": "code",
   "execution_count": 21,
   "metadata": {},
   "outputs": [
    {
     "name": "stdout",
     "output_type": "stream",
     "text": [
      "Training Accuracy: 78.5\n",
      "Test Accuracy: 72.093\n"
     ]
    }
   ],
   "source": [
    "print(f\"Training Accuracy: {round(train_acc*100,3)}\")\n",
    "print(f\"Test Accuracy: {round(test_acc*100,3)}\")"
   ]
  },
  {
   "cell_type": "code",
   "execution_count": 22,
   "metadata": {},
   "outputs": [
    {
     "data": {
      "text/plain": [
       "[Parameter containing:\n",
       " tensor([[-0.1453, -0.2651, -0.1322,  0.0675,  0.2068,  0.0456, -0.1995,  0.1744,\n",
       "          -0.0168],\n",
       "         [ 0.2204,  0.2051,  0.1083,  0.0387, -0.1114, -0.0321, -0.1659,  0.1782,\n",
       "           0.2884],\n",
       "         [-0.2084,  0.2100, -0.1812,  0.0518,  0.1803,  0.2344,  0.1293,  0.1205,\n",
       "           0.0330],\n",
       "         [-0.2027,  0.1213,  0.1705, -0.0651, -0.1082,  0.0544, -0.3352,  0.1453,\n",
       "           0.2212]], requires_grad=True),\n",
       " Parameter containing:\n",
       " tensor([-0.1787,  0.2217, -0.3642,  0.3396], requires_grad=True),\n",
       " Parameter containing:\n",
       " tensor([[ 0.2323,  0.2043,  0.0477,  0.4769],\n",
       "         [ 0.0903, -0.4699,  0.3218,  0.2739]], requires_grad=True),\n",
       " Parameter containing:\n",
       " tensor([0.3281, 0.1415], requires_grad=True)]"
      ]
     },
     "execution_count": 22,
     "metadata": {},
     "output_type": "execute_result"
    }
   ],
   "source": [
    "list(model.parameters())"
   ]
  },
  {
   "cell_type": "code",
   "execution_count": 23,
   "metadata": {},
   "outputs": [],
   "source": [
    "# Get the model parameters\n",
    "params = model.state_dict()\n",
    "\n",
    "# Convert the parameter tensors into numpy arrays\n",
    "param_arrays = []\n",
    "\n",
    "# Save each parameter tensor to a separate CSV file\n",
    "for key in params:\n",
    "    param_array = params[key].cpu().numpy()\n",
    "    np.savetxt(key+'.csv', param_array, delimiter=',', fmt=\"%.5f\")"
   ]
  },
  {
   "cell_type": "code",
   "execution_count": 24,
   "metadata": {},
   "outputs": [],
   "source": [
    "df = pd.DataFrame(X_test.numpy())\n",
    "\n",
    "# Save DataFrame to CSV\n",
    "df.to_csv('X_test.csv', index=False, header=False)"
   ]
  },
  {
   "cell_type": "code",
   "execution_count": 42,
   "metadata": {},
   "outputs": [
    {
     "data": {
      "text/plain": [
       "(array([0., 4., 0., 3., 0., 1., 1., 0., 2.]),\n",
       " array([[-0.11848,  0.39345,  0.24968, -0.16174, -0.20913,  0.20888,\n",
       "         -0.14336,  0.17586,  0.23776],\n",
       "        [ 0.22259, -0.20141,  0.06514, -0.0543 ,  0.14522, -0.05184,\n",
       "         -0.16943,  0.32842,  0.30742],\n",
       "        [-0.22358,  0.11684, -0.07109,  0.08267, -0.38832,  0.00212,\n",
       "          0.14676, -0.03576, -0.08708],\n",
       "        [-0.26795,  0.34129,  0.17229,  0.13811,  0.05611,  0.02225,\n",
       "          0.13578,  0.00991, -0.18448]]),\n",
       " array([[ 0.35377,  0.23751, -0.16502,  0.08274],\n",
       "        [-0.30748,  0.20542,  0.35819, -0.11144]]),\n",
       " array([[ 0.0931 ],\n",
       "        [-0.32901],\n",
       "        [-0.24906],\n",
       "        [ 0.38493]]),\n",
       " array([[0.29904],\n",
       "        [0.28095]]))"
      ]
     },
     "execution_count": 42,
     "metadata": {},
     "output_type": "execute_result"
    }
   ],
   "source": [
    "import pandas as pd\n",
    "import numpy as np\n",
    "\n",
    "folder = \"/gpfs/commons/groups/gursoy_lab/shong/Github/composable-fe-rs/plain_model/breast/\"\n",
    "x_test = pd.read_csv(folder + 'X_test.csv', header=None).values\n",
    "weight1 = pd.read_csv(folder + 'input_layer.weight.csv', header=None).values\n",
    "weight2 = pd.read_csv(folder + 'output_layer.weight.csv', header=None).values\n",
    "bias1 = pd.read_csv(folder + 'input_layer.bias.csv', header=None).values\n",
    "bias2 = pd.read_csv(folder + 'output_layer.bias.csv', header=None).values\n",
    "x = x_test[0]\n",
    "x, weight1, weight2, bias1, bias2"
   ]
  },
  {
   "cell_type": "code",
   "execution_count": 107,
   "metadata": {},
   "outputs": [
    {
     "name": "stdout",
     "output_type": "stream",
     "text": [
      "[[2.9677642  0.81717984 0.19450746 3.81612318]] [[3.33676981 0.67127083]]\n",
      "[0.00000000e+00 4.29496730e+09 0.00000000e+00 3.22122547e+09\n",
      " 0.00000000e+00 1.07374182e+09 1.07374182e+09 0.00000000e+00\n",
      " 2.14748365e+09] [[-1.27216931e+08  4.22463720e+08  2.68091858e+08 -1.73667002e+08\n",
      "  -2.24551627e+08  2.24283192e+08 -1.53931627e+08  1.88828237e+08\n",
      "   2.55292856e+08]\n",
      " [ 2.39004192e+08 -2.16262340e+08  6.99435420e+07 -5.83041810e+07\n",
      "   1.55928787e+08 -5.56627760e+07 -1.81924077e+08  3.52638289e+08\n",
      "   3.30089711e+08]\n",
      " [-2.40067197e+08  1.25455994e+08 -7.63323060e+07  8.87662360e+07\n",
      "  -4.16955425e+08  2.27633200e+06  1.57582350e+08 -3.83970070e+07\n",
      "  -9.35014380e+07]\n",
      " [-2.87709121e+08  3.66457347e+08  1.84994978e+08  1.48294483e+08\n",
      "   6.02476530e+07  2.38907550e+07  1.45792664e+08  1.06407810e+07\n",
      "  -1.98083891e+08]] [[ 3.79857645e+08  2.55024420e+08 -1.77188875e+08  8.88413980e+07]\n",
      " [-3.30154136e+08  2.20568045e+08  3.84603583e+08 -1.19657788e+08]] [[ 1.07336991e+17]\n",
      " [-3.79322704e+17]\n",
      " [-2.87146629e+17]\n",
      " [ 4.43794074e+17]] [[4.2680414996171124e+44]\n",
      " [4.00985238663865e+44]]\n"
     ]
    }
   ],
   "source": [
    "scale = 2**30\n",
    "x = x_test[0]\n",
    "x_scale = np.round(x * scale)\n",
    "weight1_scale = np.trunc(weight1 * scale)\n",
    "weight2_scale = np.trunc(weight2 * scale)\n",
    "bias1_scale = np.trunc(bias1 * scale) * scale # scale^2\n",
    "bias2_scale = np.trunc(bias2 * scale) * (scale**4) # scale^5\n",
    "\n",
    "layer1 = (np.matmul(weight1, x) + bias1.T) ** 2\n",
    "# x_scale, weight1_scale, weight2_scale, bias1_scale, bias2_scale\n",
    "layer2 = (np.matmul(weight2, layer1.T) + bias2).T ** 2\n",
    "\n",
    "print(layer1, layer2)\n",
    "print(x_scale, weight1_scale, weight2_scale, bias1_scale, bias2_scale)"
   ]
  },
  {
   "cell_type": "code",
   "execution_count": 113,
   "metadata": {},
   "outputs": [
    {
     "name": "stdout",
     "output_type": "stream",
     "text": [
      "v1 =  [[3.94483525e+36 1.08621831e+36 2.58544757e+35 5.07249776e+36]]\n",
      "(2, 4) (1, 4) (2, 1)\n",
      "v2 =  [[6.797120121991731e+90]\n",
      " [1.3674028262882484e+90]]\n",
      "result, rescale :  [[3.3367698  0.67127083]]\n",
      "true            :  [[3.33676981 0.67127083]]\n",
      "error :            [[-1.72867547e-08 -2.55400112e-09]]\n"
     ]
    }
   ],
   "source": [
    "v1 = np.matmul(weight1_scale, x_scale.T) + bias1_scale.T # scale^2\n",
    "v1 = np.square(v1) # scale^4\n",
    "print(\"v1 = \", v1)\n",
    "scale = np.array(scale, dtype=float)\n",
    "v1_scale = np.array(v1, dtype=float)\n",
    "\n",
    "# v1_rescale = v1_scale / scale**4\n",
    "# print(\"v1_rescale = \", v1_rescale)\n",
    "# print(\"v1 true = \", layer1)\n",
    "# print(\"error : \", v1_rescale - layer1)\n",
    "print(weight2_scale.shape, v1.shape, bias2_scale.shape)\n",
    "v2 = np.matmul(weight2_scale, v1.T) + bias2_scale\n",
    "v2 = np.square(v2)\n",
    "print(\"v2 = \", v2)\n",
    "# Ensure v2_scale and scale are numpy arrays\n",
    "v2_scale = np.array(v2, dtype=float)\n",
    "\n",
    "# Perform the division and rounding\n",
    "v2_rescale = v2_scale / scale**10\n",
    "print(\"result, rescale : \", v2_rescale.T)\n",
    "print(\"true            : \", layer2)\n",
    "print(\"error :           \", v2_rescale.T - layer2)"
   ]
  },
  {
   "cell_type": "code",
   "execution_count": 109,
   "metadata": {},
   "outputs": [
    {
     "name": "stdout",
     "output_type": "stream",
     "text": [
      "[[3.94483525e+36 1.08621831e+36 2.58544757e+35 5.07249776e+36]]\n",
      "[[4.12327742e+72]\n",
      " [2.13890034e+72]]\n"
     ]
    }
   ],
   "source": [
    "print(v1)\n",
    "print(v2)"
   ]
  },
  {
   "cell_type": "code",
   "execution_count": null,
   "metadata": {},
   "outputs": [],
   "source": []
  }
 ],
 "metadata": {
  "kernelspec": {
   "display_name": "base",
   "language": "python",
   "name": "python3"
  },
  "language_info": {
   "codemirror_mode": {
    "name": "ipython",
    "version": 3
   },
   "file_extension": ".py",
   "mimetype": "text/x-python",
   "name": "python",
   "nbconvert_exporter": "python",
   "pygments_lexer": "ipython3",
   "version": "3.9.10"
  },
  "orig_nbformat": 4
 },
 "nbformat": 4,
 "nbformat_minor": 2
}
